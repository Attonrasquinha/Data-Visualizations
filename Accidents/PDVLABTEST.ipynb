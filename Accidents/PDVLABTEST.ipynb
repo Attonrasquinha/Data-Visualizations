{
 "cells": [
  {
   "cell_type": "code",
   "execution_count": 29,
   "metadata": {},
   "outputs": [
    {
     "data": {
      "text/html": [
       "<div>\n",
       "<style>\n",
       "    .dataframe thead tr:only-child th {\n",
       "        text-align: right;\n",
       "    }\n",
       "\n",
       "    .dataframe thead th {\n",
       "        text-align: left;\n",
       "    }\n",
       "\n",
       "    .dataframe tbody tr th {\n",
       "        vertical-align: top;\n",
       "    }\n",
       "</style>\n",
       "<table border=\"1\" class=\"dataframe\">\n",
       "  <thead>\n",
       "    <tr style=\"text-align: right;\">\n",
       "      <th></th>\n",
       "      <th>Name of City</th>\n",
       "      <th>Total number of Fatal Accidents - 2011</th>\n",
       "      <th>All Accidents - 2011</th>\n",
       "      <th>Persons Killed - 2011</th>\n",
       "      <th>Persons Injured - 2011</th>\n",
       "      <th>Total number of Fatal Accidents - 2012</th>\n",
       "      <th>All Accidents - 2012</th>\n",
       "      <th>Persons Killed - 2012</th>\n",
       "      <th>Persons Injured - 2012</th>\n",
       "      <th>Fatal Accidents - 2013</th>\n",
       "      <th>...</th>\n",
       "      <th>Injured - 2014</th>\n",
       "      <th>Severity - 2014</th>\n",
       "      <th>Fatal Accidents - 2015</th>\n",
       "      <th>Greviously Injured Accidents - 2015</th>\n",
       "      <th>Minor Accidents - 2015</th>\n",
       "      <th>Non-Injurey Accidents - 2015</th>\n",
       "      <th>Total Accidents - 2015</th>\n",
       "      <th>Killed - 2015</th>\n",
       "      <th>Injured - 2015</th>\n",
       "      <th>Severity - 2015</th>\n",
       "    </tr>\n",
       "  </thead>\n",
       "  <tbody>\n",
       "    <tr>\n",
       "      <th>0</th>\n",
       "      <td>Agra</td>\n",
       "      <td>336.0</td>\n",
       "      <td>1299.0</td>\n",
       "      <td>632.0</td>\n",
       "      <td>1046.0</td>\n",
       "      <td>381.0</td>\n",
       "      <td>922.0</td>\n",
       "      <td>427.0</td>\n",
       "      <td>675.0</td>\n",
       "      <td>436.0</td>\n",
       "      <td>...</td>\n",
       "      <td>747.0</td>\n",
       "      <td>50.6</td>\n",
       "      <td>498.0</td>\n",
       "      <td>369.0</td>\n",
       "      <td>260.0</td>\n",
       "      <td>16.0</td>\n",
       "      <td>1143.0</td>\n",
       "      <td>474.0</td>\n",
       "      <td>650.0</td>\n",
       "      <td>41.5</td>\n",
       "    </tr>\n",
       "    <tr>\n",
       "      <th>1</th>\n",
       "      <td>Ahmedabad</td>\n",
       "      <td>222.0</td>\n",
       "      <td>2020.0</td>\n",
       "      <td>227.0</td>\n",
       "      <td>2036.0</td>\n",
       "      <td>245.0</td>\n",
       "      <td>1850.0</td>\n",
       "      <td>251.0</td>\n",
       "      <td>1845.0</td>\n",
       "      <td>227.0</td>\n",
       "      <td>...</td>\n",
       "      <td>1597.0</td>\n",
       "      <td>16.0</td>\n",
       "      <td>318.0</td>\n",
       "      <td>351.0</td>\n",
       "      <td>1168.0</td>\n",
       "      <td>0.0</td>\n",
       "      <td>1837.0</td>\n",
       "      <td>328.0</td>\n",
       "      <td>1722.0</td>\n",
       "      <td>17.9</td>\n",
       "    </tr>\n",
       "    <tr>\n",
       "      <th>2</th>\n",
       "      <td>Asansol-Durgapur</td>\n",
       "      <td>229.0</td>\n",
       "      <td>368.0</td>\n",
       "      <td>230.0</td>\n",
       "      <td>185.0</td>\n",
       "      <td>199.0</td>\n",
       "      <td>380.0</td>\n",
       "      <td>224.0</td>\n",
       "      <td>315.0</td>\n",
       "      <td>200.0</td>\n",
       "      <td>...</td>\n",
       "      <td>284.0</td>\n",
       "      <td>47.4</td>\n",
       "      <td>210.0</td>\n",
       "      <td>160.0</td>\n",
       "      <td>60.0</td>\n",
       "      <td>16.0</td>\n",
       "      <td>446.0</td>\n",
       "      <td>210.0</td>\n",
       "      <td>220.0</td>\n",
       "      <td>47.1</td>\n",
       "    </tr>\n",
       "    <tr>\n",
       "      <th>3</th>\n",
       "      <td>Aurangabad</td>\n",
       "      <td>161.0</td>\n",
       "      <td>719.0</td>\n",
       "      <td>173.0</td>\n",
       "      <td>744.0</td>\n",
       "      <td>178.0</td>\n",
       "      <td>715.0</td>\n",
       "      <td>192.0</td>\n",
       "      <td>649.0</td>\n",
       "      <td>150.0</td>\n",
       "      <td>...</td>\n",
       "      <td>578.0</td>\n",
       "      <td>30.4</td>\n",
       "      <td>153.0</td>\n",
       "      <td>297.0</td>\n",
       "      <td>147.0</td>\n",
       "      <td>57.0</td>\n",
       "      <td>654.0</td>\n",
       "      <td>170.0</td>\n",
       "      <td>670.0</td>\n",
       "      <td>26.0</td>\n",
       "    </tr>\n",
       "    <tr>\n",
       "      <th>4</th>\n",
       "      <td>Bengaluru</td>\n",
       "      <td>689.0</td>\n",
       "      <td>6031.0</td>\n",
       "      <td>720.0</td>\n",
       "      <td>4952.0</td>\n",
       "      <td>707.0</td>\n",
       "      <td>5508.0</td>\n",
       "      <td>725.0</td>\n",
       "      <td>4527.0</td>\n",
       "      <td>733.0</td>\n",
       "      <td>...</td>\n",
       "      <td>4098.0</td>\n",
       "      <td>14.6</td>\n",
       "      <td>708.0</td>\n",
       "      <td>1331.0</td>\n",
       "      <td>1899.0</td>\n",
       "      <td>896.0</td>\n",
       "      <td>4834.0</td>\n",
       "      <td>713.0</td>\n",
       "      <td>4057.0</td>\n",
       "      <td>14.7</td>\n",
       "    </tr>\n",
       "  </tbody>\n",
       "</table>\n",
       "<p>5 rows × 30 columns</p>\n",
       "</div>"
      ],
      "text/plain": [
       "       Name of City  Total number of Fatal Accidents - 2011  \\\n",
       "0              Agra                                   336.0   \n",
       "1         Ahmedabad                                   222.0   \n",
       "2  Asansol-Durgapur                                   229.0   \n",
       "3        Aurangabad                                   161.0   \n",
       "4         Bengaluru                                   689.0   \n",
       "\n",
       "   All Accidents - 2011  Persons Killed - 2011  Persons Injured - 2011  \\\n",
       "0                1299.0                  632.0                  1046.0   \n",
       "1                2020.0                  227.0                  2036.0   \n",
       "2                 368.0                  230.0                   185.0   \n",
       "3                 719.0                  173.0                   744.0   \n",
       "4                6031.0                  720.0                  4952.0   \n",
       "\n",
       "   Total number of Fatal Accidents - 2012  All Accidents - 2012  \\\n",
       "0                                   381.0                 922.0   \n",
       "1                                   245.0                1850.0   \n",
       "2                                   199.0                 380.0   \n",
       "3                                   178.0                 715.0   \n",
       "4                                   707.0                5508.0   \n",
       "\n",
       "   Persons Killed - 2012  Persons Injured - 2012  Fatal Accidents - 2013  \\\n",
       "0                  427.0                   675.0                   436.0   \n",
       "1                  251.0                  1845.0                   227.0   \n",
       "2                  224.0                   315.0                   200.0   \n",
       "3                  192.0                   649.0                   150.0   \n",
       "4                  725.0                  4527.0                   733.0   \n",
       "\n",
       "        ...         Injured - 2014  Severity - 2014  Fatal Accidents - 2015  \\\n",
       "0       ...                  747.0             50.6                   498.0   \n",
       "1       ...                 1597.0             16.0                   318.0   \n",
       "2       ...                  284.0             47.4                   210.0   \n",
       "3       ...                  578.0             30.4                   153.0   \n",
       "4       ...                 4098.0             14.6                   708.0   \n",
       "\n",
       "   Greviously Injured Accidents - 2015  Minor Accidents - 2015  \\\n",
       "0                                369.0                   260.0   \n",
       "1                                351.0                  1168.0   \n",
       "2                                160.0                    60.0   \n",
       "3                                297.0                   147.0   \n",
       "4                               1331.0                  1899.0   \n",
       "\n",
       "   Non-Injurey Accidents - 2015  Total Accidents - 2015  Killed - 2015  \\\n",
       "0                          16.0                  1143.0          474.0   \n",
       "1                           0.0                  1837.0          328.0   \n",
       "2                          16.0                   446.0          210.0   \n",
       "3                          57.0                   654.0          170.0   \n",
       "4                         896.0                  4834.0          713.0   \n",
       "\n",
       "   Injured - 2015  Severity - 2015  \n",
       "0           650.0             41.5  \n",
       "1          1722.0             17.9  \n",
       "2           220.0             47.1  \n",
       "3           670.0             26.0  \n",
       "4          4057.0             14.7  \n",
       "\n",
       "[5 rows x 30 columns]"
      ]
     },
     "execution_count": 29,
     "metadata": {},
     "output_type": "execute_result"
    }
   ],
   "source": [
    "import numpy as np\n",
    "import pandas as pd\n",
    "from pandas import DataFrame\n",
    "import matplotlib.pyplot as plt\n",
    "df=pd.read_csv('/home/msois/Downloads/Accidents/Accident_Cities.csv')\n",
    "df=df.applymap(lambda x: x.strip() if isinstance(x,str) else x)\n",
    "df.head()"
   ]
  },
  {
   "cell_type": "code",
   "execution_count": 30,
   "metadata": {},
   "outputs": [
    {
     "name": "stdout",
     "output_type": "stream",
     "text": [
      "7         Delhi\n",
      "13       Indore\n",
      "4     Bengaluru\n",
      "Name: Name of City, dtype: object\n"
     ]
    }
   ],
   "source": [
    "df[\"maxin\"] =(df[\"Persons Injured - 2011\"] + df[\"Persons Injured - 2012\"] + df[\"Injured - 2013\"] + df[\"Injured - 2014\"] +df[\"Injured - 2015\"] ).sort_values(ascending=False)\n",
    "\n",
    "print(df.sort_values('maxin',ascending=False)[\"Name of City\"].head(3))\n",
    "\n"
   ]
  },
  {
   "cell_type": "code",
   "execution_count": 31,
   "metadata": {},
   "outputs": [
    {
     "data": {
      "text/plain": [
       "0           Agra\n",
       "1      Ahmedabad\n",
       "3     Aurangabad\n",
       "4      Bengaluru\n",
       "6     Coimbatore\n",
       "7          Delhi\n",
       "9      Faridabad\n",
       "10     Ghaziabad\n",
       "11       Gwalior\n",
       "12     Hyderabad\n",
       "14        Jaipur\n",
       "15      Jabalpur\n",
       "17       Jodhpur\n",
       "22        Kannur\n",
       "27        Mumbai\n",
       "29        Nagpur\n",
       "30         Patna\n",
       "32        Rajkot\n",
       "Name: Name of City, dtype: object"
      ]
     },
     "execution_count": 31,
     "metadata": {},
     "output_type": "execute_result"
    }
   ],
   "source": [
    "df[df[\"Persons Injured - 2011\"].gt(df[\"Persons Injured - 2012\"])]['Name of City']"
   ]
  },
  {
   "cell_type": "code",
   "execution_count": 73,
   "metadata": {},
   "outputs": [
    {
     "data": {
      "text/html": [
       "<div>\n",
       "<style>\n",
       "    .dataframe thead tr:only-child th {\n",
       "        text-align: right;\n",
       "    }\n",
       "\n",
       "    .dataframe thead th {\n",
       "        text-align: left;\n",
       "    }\n",
       "\n",
       "    .dataframe tbody tr th {\n",
       "        vertical-align: top;\n",
       "    }\n",
       "</style>\n",
       "<table border=\"1\" class=\"dataframe\">\n",
       "  <thead>\n",
       "    <tr style=\"text-align: right;\">\n",
       "      <th></th>\n",
       "      <th>States/UTs</th>\n",
       "      <th>State/UT-Wise Total Number of Persons Injured in Road Accidents during-2009</th>\n",
       "      <th>State/UT-Wise Total Number of Persons Injured in Road Accidents during-2010</th>\n",
       "      <th>State/UT-Wise Total Number of Persons Injured in Road Accidents during-2011</th>\n",
       "      <th>State/UT-Wise Total Number of Persons Injured in Road Accidents during-2012</th>\n",
       "      <th>2008</th>\n",
       "      <th>2009</th>\n",
       "      <th>2010</th>\n",
       "      <th>2011</th>\n",
       "      <th>2012</th>\n",
       "      <th>...</th>\n",
       "      <th>2016</th>\n",
       "      <th>2008.1</th>\n",
       "      <th>2009.1</th>\n",
       "      <th>2010.1</th>\n",
       "      <th>2011.1</th>\n",
       "      <th>2012.1</th>\n",
       "      <th>2013.1</th>\n",
       "      <th>2014.1</th>\n",
       "      <th>2015.1</th>\n",
       "      <th>2016.1</th>\n",
       "    </tr>\n",
       "  </thead>\n",
       "  <tbody>\n",
       "    <tr>\n",
       "      <th>0</th>\n",
       "      <td>Andhra Pradesh</td>\n",
       "      <td>52157.0</td>\n",
       "      <td>53928.0</td>\n",
       "      <td>55583.0</td>\n",
       "      <td>51552.0</td>\n",
       "      <td>7471.0</td>\n",
       "      <td>6407.0</td>\n",
       "      <td>5211.0</td>\n",
       "      <td>4560.0</td>\n",
       "      <td>6201.0</td>\n",
       "      <td>...</td>\n",
       "      <td>5564</td>\n",
       "      <td>1591.0</td>\n",
       "      <td>4469.0</td>\n",
       "      <td>2877.0</td>\n",
       "      <td>2205.0</td>\n",
       "      <td>1660.0</td>\n",
       "      <td>1315.0</td>\n",
       "      <td>594</td>\n",
       "      <td>490</td>\n",
       "      <td>128</td>\n",
       "    </tr>\n",
       "    <tr>\n",
       "      <th>1</th>\n",
       "      <td>Arunachal Pradesh</td>\n",
       "      <td>530.0</td>\n",
       "      <td>491.0</td>\n",
       "      <td>438.0</td>\n",
       "      <td>399.0</td>\n",
       "      <td>32.0</td>\n",
       "      <td>35.0</td>\n",
       "      <td>42.0</td>\n",
       "      <td>72.0</td>\n",
       "      <td>15.0</td>\n",
       "      <td>...</td>\n",
       "      <td>41</td>\n",
       "      <td>25.0</td>\n",
       "      <td>20.0</td>\n",
       "      <td>8.0</td>\n",
       "      <td>8.0</td>\n",
       "      <td>25.0</td>\n",
       "      <td>36.0</td>\n",
       "      <td>11</td>\n",
       "      <td>22</td>\n",
       "      <td>15</td>\n",
       "    </tr>\n",
       "    <tr>\n",
       "      <th>2</th>\n",
       "      <td>Assam</td>\n",
       "      <td>5522.0</td>\n",
       "      <td>7579.0</td>\n",
       "      <td>6505.0</td>\n",
       "      <td>6709.0</td>\n",
       "      <td>843.0</td>\n",
       "      <td>1244.0</td>\n",
       "      <td>1400.0</td>\n",
       "      <td>1233.0</td>\n",
       "      <td>1430.0</td>\n",
       "      <td>...</td>\n",
       "      <td>1094</td>\n",
       "      <td>530.0</td>\n",
       "      <td>279.0</td>\n",
       "      <td>361.0</td>\n",
       "      <td>760.0</td>\n",
       "      <td>347.0</td>\n",
       "      <td>807.0</td>\n",
       "      <td>613</td>\n",
       "      <td>611</td>\n",
       "      <td>352</td>\n",
       "    </tr>\n",
       "    <tr>\n",
       "      <th>3</th>\n",
       "      <td>Bihar</td>\n",
       "      <td>7113.0</td>\n",
       "      <td>8106.0</td>\n",
       "      <td>7083.0</td>\n",
       "      <td>7142.0</td>\n",
       "      <td>1008.0</td>\n",
       "      <td>1551.0</td>\n",
       "      <td>1452.0</td>\n",
       "      <td>1748.0</td>\n",
       "      <td>1266.0</td>\n",
       "      <td>...</td>\n",
       "      <td>1509</td>\n",
       "      <td>1944.0</td>\n",
       "      <td>1011.0</td>\n",
       "      <td>930.0</td>\n",
       "      <td>1590.0</td>\n",
       "      <td>1572.0</td>\n",
       "      <td>1532.0</td>\n",
       "      <td>1680</td>\n",
       "      <td>1457</td>\n",
       "      <td>593</td>\n",
       "    </tr>\n",
       "    <tr>\n",
       "      <th>4</th>\n",
       "      <td>Chhattisgarh</td>\n",
       "      <td>13274.0</td>\n",
       "      <td>13599.0</td>\n",
       "      <td>13929.0</td>\n",
       "      <td>13517.0</td>\n",
       "      <td>1347.0</td>\n",
       "      <td>1474.0</td>\n",
       "      <td>1382.0</td>\n",
       "      <td>1431.0</td>\n",
       "      <td>1186.0</td>\n",
       "      <td>...</td>\n",
       "      <td>1735</td>\n",
       "      <td>855.0</td>\n",
       "      <td>266.0</td>\n",
       "      <td>1241.0</td>\n",
       "      <td>304.0</td>\n",
       "      <td>277.0</td>\n",
       "      <td>310.0</td>\n",
       "      <td>335</td>\n",
       "      <td>227</td>\n",
       "      <td>145</td>\n",
       "    </tr>\n",
       "  </tbody>\n",
       "</table>\n",
       "<p>5 rows × 23 columns</p>\n",
       "</div>"
      ],
      "text/plain": [
       "          States/UTs  \\\n",
       "0     Andhra Pradesh   \n",
       "1  Arunachal Pradesh   \n",
       "2              Assam   \n",
       "3              Bihar   \n",
       "4       Chhattisgarh   \n",
       "\n",
       "   State/UT-Wise Total Number of Persons Injured in Road Accidents during-2009  \\\n",
       "0                                            52157.0                             \n",
       "1                                              530.0                             \n",
       "2                                             5522.0                             \n",
       "3                                             7113.0                             \n",
       "4                                            13274.0                             \n",
       "\n",
       "   State/UT-Wise Total Number of Persons Injured in Road Accidents during-2010  \\\n",
       "0                                            53928.0                             \n",
       "1                                              491.0                             \n",
       "2                                             7579.0                             \n",
       "3                                             8106.0                             \n",
       "4                                            13599.0                             \n",
       "\n",
       "   State/UT-Wise Total Number of Persons Injured in Road Accidents during-2011  \\\n",
       "0                                            55583.0                             \n",
       "1                                              438.0                             \n",
       "2                                             6505.0                             \n",
       "3                                             7083.0                             \n",
       "4                                            13929.0                             \n",
       "\n",
       "   State/UT-Wise Total Number of Persons Injured in Road Accidents during-2012  \\\n",
       "0                                            51552.0                             \n",
       "1                                              399.0                             \n",
       "2                                             6709.0                             \n",
       "3                                             7142.0                             \n",
       "4                                            13517.0                             \n",
       "\n",
       "     2008    2009    2010    2011    2012   ...    2016  2008.1  2009.1  \\\n",
       "0  7471.0  6407.0  5211.0  4560.0  6201.0   ...    5564  1591.0  4469.0   \n",
       "1    32.0    35.0    42.0    72.0    15.0   ...      41    25.0    20.0   \n",
       "2   843.0  1244.0  1400.0  1233.0  1430.0   ...    1094   530.0   279.0   \n",
       "3  1008.0  1551.0  1452.0  1748.0  1266.0   ...    1509  1944.0  1011.0   \n",
       "4  1347.0  1474.0  1382.0  1431.0  1186.0   ...    1735   855.0   266.0   \n",
       "\n",
       "   2010.1  2011.1  2012.1  2013.1  2014.1  2015.1  2016.1  \n",
       "0  2877.0  2205.0  1660.0  1315.0     594     490     128  \n",
       "1     8.0     8.0    25.0    36.0      11      22      15  \n",
       "2   361.0   760.0   347.0   807.0     613     611     352  \n",
       "3   930.0  1590.0  1572.0  1532.0    1680    1457     593  \n",
       "4  1241.0   304.0   277.0   310.0     335     227     145  \n",
       "\n",
       "[5 rows x 23 columns]"
      ]
     },
     "execution_count": 73,
     "metadata": {},
     "output_type": "execute_result"
    }
   ],
   "source": [
    "data=pd.read_csv('/home/msois/Downloads/Accidents/Accident_States.csv',skiprows=1)\n",
    "data=data.applymap(lambda x: x.strip() if isinstance(x,str) else x)\n",
    "data.head()\n",
    "\n"
   ]
  },
  {
   "cell_type": "code",
   "execution_count": null,
   "metadata": {
    "collapsed": true
   },
   "outputs": [],
   "source": []
  },
  {
   "cell_type": "code",
   "execution_count": 70,
   "metadata": {},
   "outputs": [
    {
     "data": {
      "text/plain": [
       "['Maharashtra', 'Tamil Nadu', 'Karnataka', 'Gujarat', 'Andhra Pradesh']"
      ]
     },
     "execution_count": 70,
     "metadata": {},
     "output_type": "execute_result"
    }
   ],
   "source": [
    "data[\"maxout\"] =(data[\"2010\"] + data[\"2011\"] + data[\"2012\"] + data[\"2013\"] +data[\"2014\"]+ data[\"2015\"] ).sort_values(ascending=False)\n",
    "a=(data.sort_values('maxout',ascending=False)[\"States/UTs\"].head())\n",
    "citi=list(a)\n",
    "citi"
   ]
  },
  {
   "cell_type": "code",
   "execution_count": null,
   "metadata": {
    "collapsed": true
   },
   "outputs": [],
   "source": []
  },
  {
   "cell_type": "code",
   "execution_count": 71,
   "metadata": {},
   "outputs": [],
   "source": [
    "\n",
    "\n",
    "r=np.arange(len(a))"
   ]
  },
  {
   "cell_type": "code",
   "execution_count": 72,
   "metadata": {},
   "outputs": [
    {
     "data": {
      "image/png": "[encoded data removed]",
      "text/plain": [
       "<matplotlib.figure.Figure at 0x7f2e96ff72b0>"
      ]
     },
     "metadata": {},
     "output_type": "display_data"
    }
   ],
   "source": [
    "plt.plot(r,citi, linestyle='dotted', marker='*', color='red')\n",
    "\n",
    "plt.show()"
   ]
  },
  {
   "cell_type": "code",
   "execution_count": 49,
   "metadata": {},
   "outputs": [
    {
     "data": {
      "text/plain": [
       "333.87179487179486"
      ]
     },
     "execution_count": 49,
     "metadata": {},
     "output_type": "execute_result"
    }
   ],
   "source": [
    "df[\"Persons Killed - 2011\"].mean()\n"
   ]
  },
  {
   "cell_type": "code",
   "execution_count": 50,
   "metadata": {},
   "outputs": [
    {
     "data": {
      "text/plain": [
       "339.1"
      ]
     },
     "execution_count": 50,
     "metadata": {},
     "output_type": "execute_result"
    }
   ],
   "source": [
    "df[\"Persons Killed - 2012\"].mean()"
   ]
  },
  {
   "cell_type": "code",
   "execution_count": 51,
   "metadata": {},
   "outputs": [
    {
     "data": {
      "text/plain": [
       "340.14"
      ]
     },
     "execution_count": 51,
     "metadata": {},
     "output_type": "execute_result"
    }
   ],
   "source": [
    "df[\"Killed - 2013\"].mean()"
   ]
  },
  {
   "cell_type": "code",
   "execution_count": 54,
   "metadata": {},
   "outputs": [
    {
     "data": {
      "text/plain": [
       "332.22"
      ]
     },
     "execution_count": 54,
     "metadata": {},
     "output_type": "execute_result"
    }
   ],
   "source": [
    "df[\"Killed - 2014\"].mean()"
   ]
  },
  {
   "cell_type": "code",
   "execution_count": 92,
   "metadata": {},
   "outputs": [
    {
     "data": {
      "text/plain": [
       "['Delhi', 'Bengaluru', 'Mumbai', 'Lucknow', 'Agra']"
      ]
     },
     "execution_count": 92,
     "metadata": {},
     "output_type": "execute_result"
    }
   ],
   "source": [
    "df['cv']=(df[\"Persons Killed - 2011\"] + df[\"Persons Killed - 2012\"] + df[\"Killed - 2013\"] + df[\"Killed - 2014\"] +df[\"Killed - 2015\"]).sort_values(ascending=False)\n",
    "a=(df.sort_values('cv',ascending=False)[\"Name of City\"].head())\n",
    "citi=list(a)\n",
    "citi"
   ]
  },
  {
   "cell_type": "code",
   "execution_count": null,
   "metadata": {
    "collapsed": true
   },
   "outputs": [],
   "source": []
  }
 ],
 "metadata": {
  "kernelspec": {
   "display_name": "Python 3",
   "language": "python",
   "name": "python3"
  },
  "language_info": {
   "codemirror_mode": {
    "name": "ipython",
    "version": 3
   },
   "file_extension": ".py",
   "mimetype": "text/x-python",
   "name": "python",
   "nbconvert_exporter": "python",
   "pygments_lexer": "ipython3",
   "version": "3.6.3"
  }
 },
 "nbformat": 4,
 "nbformat_minor": 2
}
